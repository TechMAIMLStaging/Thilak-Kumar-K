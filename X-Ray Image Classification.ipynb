{
 "cells": [
  {
   "cell_type": "code",
   "execution_count": 1,
   "id": "9a556c72-3a41-4eba-a78a-58a6f59b6c56",
   "metadata": {},
   "outputs": [
    {
     "name": "stdout",
     "output_type": "stream",
     "text": [
      "WARNING:tensorflow:From C:\\Users\\Bharath Reddy\\AppData\\Local\\Programs\\Python\\Python310\\lib\\site-packages\\keras\\src\\losses.py:2976: The name tf.losses.sparse_softmax_cross_entropy is deprecated. Please use tf.compat.v1.losses.sparse_softmax_cross_entropy instead.\n",
      "\n"
     ]
    }
   ],
   "source": [
    "import tensorflow as tf\n",
    "from tensorflow.keras import layers,Sequential,models"
   ]
  },
  {
   "cell_type": "code",
   "execution_count": 2,
   "id": "c7d52910-e25c-44b7-8438-9ba1cb76a46a",
   "metadata": {},
   "outputs": [],
   "source": [
    "from tensorflow.keras.preprocessing.image import ImageDataGenerator"
   ]
  },
  {
   "cell_type": "code",
   "execution_count": 3,
   "id": "961bbe22-688c-40a3-b73c-e5b774db5723",
   "metadata": {},
   "outputs": [],
   "source": [
    "train_dir=\"D:\\\\Revature\\\\Staging Preperation\\\\Xray Classifcation\\\\train\"\n",
    "test_dir=\"D:\\\\Revature\\\\Staging Preperation\\\\Xray Classifcation\\\\test\""
   ]
  },
  {
   "cell_type": "code",
   "execution_count": 4,
   "id": "4aa82306-ba28-4054-831d-d7cdda36585a",
   "metadata": {},
   "outputs": [],
   "source": [
    "traindatagen=ImageDataGenerator(\n",
    "    rescale=1./255,  \n",
    "    rotation_range=20,\n",
    "    width_shift_range=0.2,\n",
    "    height_shift_range=0.2,\n",
    "    shear_range=0.2,\n",
    "    zoom_range=0.2,\n",
    "    horizontal_flip=True\n",
    ")"
   ]
  },
  {
   "cell_type": "code",
   "execution_count": 5,
   "id": "3e5b9a87-689b-4c09-8c25-b4a0baa8584b",
   "metadata": {},
   "outputs": [],
   "source": [
    "testdatagen=ImageDataGenerator(rescale=1./255)"
   ]
  },
  {
   "cell_type": "code",
   "execution_count": 6,
   "id": "9e6cb782-432e-42f7-9d58-0e3014632897",
   "metadata": {},
   "outputs": [
    {
     "name": "stdout",
     "output_type": "stream",
     "text": [
      "Found 914 images belonging to 3 classes.\n"
     ]
    }
   ],
   "source": [
    "train=traindatagen.flow_from_directory(train_dir,target_size=(224,224),batch_size=32,class_mode='categorical')"
   ]
  },
  {
   "cell_type": "code",
   "execution_count": 7,
   "id": "0ba2ad4a-e0be-4c5d-8a06-136888949cc1",
   "metadata": {},
   "outputs": [
    {
     "name": "stdout",
     "output_type": "stream",
     "text": [
      "Found 316 images belonging to 3 classes.\n"
     ]
    }
   ],
   "source": [
    "test=testdatagen.flow_from_directory(test_dir,target_size=(224,244),batch_size=32,class_mode='categorical')"
   ]
  },
  {
   "cell_type": "code",
   "execution_count": 8,
   "id": "ce3933d4-9f7a-4153-bfc2-54c1e76097cf",
   "metadata": {},
   "outputs": [],
   "source": [
    "from tensorflow.keras.applications import VGG16"
   ]
  },
  {
   "cell_type": "code",
   "execution_count": 9,
   "id": "1a910c9e-7950-4b96-9079-6a9e6f17fca1",
   "metadata": {},
   "outputs": [
    {
     "name": "stdout",
     "output_type": "stream",
     "text": [
      "WARNING:tensorflow:From C:\\Users\\Bharath Reddy\\AppData\\Local\\Programs\\Python\\Python310\\lib\\site-packages\\keras\\src\\backend.py:1398: The name tf.executing_eagerly_outside_functions is deprecated. Please use tf.compat.v1.executing_eagerly_outside_functions instead.\n",
      "\n",
      "WARNING:tensorflow:From C:\\Users\\Bharath Reddy\\AppData\\Local\\Programs\\Python\\Python310\\lib\\site-packages\\keras\\src\\layers\\pooling\\max_pooling2d.py:161: The name tf.nn.max_pool is deprecated. Please use tf.nn.max_pool2d instead.\n",
      "\n"
     ]
    }
   ],
   "source": [
    "base=VGG16(weights='imagenet',include_top=False,input_shape=(224,224,3))"
   ]
  },
  {
   "cell_type": "code",
   "execution_count": 10,
   "id": "3ea9f354-b828-4fc1-a0c0-8afd0ff2c55b",
   "metadata": {},
   "outputs": [],
   "source": [
    "for i in base.layers:\n",
    "    i.trainable=True"
   ]
  },
  {
   "cell_type": "code",
   "execution_count": 11,
   "id": "3f9766a7-c5d3-46af-bee0-390324db70e0",
   "metadata": {},
   "outputs": [],
   "source": [
    "x=Sequential()"
   ]
  },
  {
   "cell_type": "code",
   "execution_count": 12,
   "id": "f0c73295-2652-4411-bb85-64d2c398ac4d",
   "metadata": {},
   "outputs": [],
   "source": [
    "x.add(base)"
   ]
  },
  {
   "cell_type": "code",
   "execution_count": 13,
   "id": "7017bdb9-4745-4369-a478-412894e7d1b2",
   "metadata": {},
   "outputs": [],
   "source": [
    "x.add(layers.Flatten())"
   ]
  },
  {
   "cell_type": "code",
   "execution_count": 14,
   "id": "d3e435c2-c744-4de8-8bca-1af4a4ff2e9f",
   "metadata": {},
   "outputs": [],
   "source": [
    "x.add(layers.Dense(126,activation='relu'))"
   ]
  },
  {
   "cell_type": "code",
   "execution_count": 15,
   "id": "d58e0cea-bb5c-4232-a25c-67968261a920",
   "metadata": {},
   "outputs": [],
   "source": [
    "x.add(layers.Dense(64,activation='relu'))"
   ]
  },
  {
   "cell_type": "code",
   "execution_count": 16,
   "id": "1ff2dcba-25ac-43dd-94b5-ad5c127b3121",
   "metadata": {},
   "outputs": [],
   "source": [
    "x.add(layers.Dense(3,activation='softmax'))"
   ]
  },
  {
   "cell_type": "code",
   "execution_count": 17,
   "id": "49b4d3ba-00eb-4768-b16a-f8763218efed",
   "metadata": {},
   "outputs": [
    {
     "name": "stdout",
     "output_type": "stream",
     "text": [
      "WARNING:tensorflow:From C:\\Users\\Bharath Reddy\\AppData\\Local\\Programs\\Python\\Python310\\lib\\site-packages\\keras\\src\\optimizers\\__init__.py:309: The name tf.train.Optimizer is deprecated. Please use tf.compat.v1.train.Optimizer instead.\n",
      "\n"
     ]
    }
   ],
   "source": [
    "x.compile(optimizer=\"adam\",loss='categorical_crossentropy',metrics=['accuracy'])"
   ]
  },
  {
   "cell_type": "code",
   "execution_count": 18,
   "id": "763fd83e-2f2a-4378-9ce0-7bfda49e42bd",
   "metadata": {},
   "outputs": [
    {
     "name": "stdout",
     "output_type": "stream",
     "text": [
      "Model: \"sequential\"\n",
      "_________________________________________________________________\n",
      " Layer (type)                Output Shape              Param #   \n",
      "=================================================================\n",
      " vgg16 (Functional)          (None, 7, 7, 512)         14714688  \n",
      "                                                                 \n",
      " flatten (Flatten)           (None, 25088)             0         \n",
      "                                                                 \n",
      " dense (Dense)               (None, 126)               3161214   \n",
      "                                                                 \n",
      " dense_1 (Dense)             (None, 64)                8128      \n",
      "                                                                 \n",
      " dense_2 (Dense)             (None, 3)                 195       \n",
      "                                                                 \n",
      "=================================================================\n",
      "Total params: 17884225 (68.22 MB)\n",
      "Trainable params: 17884225 (68.22 MB)\n",
      "Non-trainable params: 0 (0.00 Byte)\n",
      "_________________________________________________________________\n"
     ]
    }
   ],
   "source": [
    "x.summary()"
   ]
  },
  {
   "cell_type": "code",
   "execution_count": 19,
   "id": "fafa70ff-980f-41ed-b941-1eea9c71a189",
   "metadata": {},
   "outputs": [
    {
     "name": "stdout",
     "output_type": "stream",
     "text": [
      "Epoch 1/5\n",
      "WARNING:tensorflow:From C:\\Users\\Bharath Reddy\\AppData\\Local\\Programs\\Python\\Python310\\lib\\site-packages\\keras\\src\\utils\\tf_utils.py:492: The name tf.ragged.RaggedTensorValue is deprecated. Please use tf.compat.v1.ragged.RaggedTensorValue instead.\n",
      "\n",
      "WARNING:tensorflow:From C:\\Users\\Bharath Reddy\\AppData\\Local\\Programs\\Python\\Python310\\lib\\site-packages\\keras\\src\\engine\\base_layer_utils.py:384: The name tf.executing_eagerly_outside_functions is deprecated. Please use tf.compat.v1.executing_eagerly_outside_functions instead.\n",
      "\n",
      "29/29 [==============================] - 590s 20s/step - loss: 1.4959 - accuracy: 0.4059\n",
      "Epoch 2/5\n",
      "29/29 [==============================] - 668s 23s/step - loss: 1.1073 - accuracy: 0.3993\n",
      "Epoch 3/5\n",
      "29/29 [==============================] - 683s 23s/step - loss: 1.1025 - accuracy: 0.3906\n",
      "Epoch 4/5\n",
      "29/29 [==============================] - 690s 24s/step - loss: 1.0926 - accuracy: 0.4256\n",
      "Epoch 5/5\n",
      "29/29 [==============================] - 731s 25s/step - loss: 1.0933 - accuracy: 0.4147\n"
     ]
    },
    {
     "data": {
      "text/plain": [
       "<keras.src.callbacks.History at 0x19e00163400>"
      ]
     },
     "execution_count": 19,
     "metadata": {},
     "output_type": "execute_result"
    }
   ],
   "source": [
    "x.fit(train,                       \n",
    "    steps_per_epoch=len(train),\n",
    "    epochs=5\n",
    ")"
   ]
  },
  {
   "cell_type": "code",
   "execution_count": 21,
   "id": "57621e8d-d882-45ac-8d24-c8d08d489e0c",
   "metadata": {},
   "outputs": [
    {
     "name": "stdout",
     "output_type": "stream",
     "text": [
      "10/10 [==============================] - 37s 3s/step - loss: 1.1006 - accuracy: 0.3133\n"
     ]
    },
    {
     "data": {
      "text/plain": [
       "[1.1005582809448242, 0.31329113245010376]"
      ]
     },
     "execution_count": 21,
     "metadata": {},
     "output_type": "execute_result"
    }
   ],
   "source": [
    "x.evaluate(test)"
   ]
  },
  {
   "cell_type": "code",
   "execution_count": 22,
   "id": "ffb88f90-adc7-4ca4-b954-db50235ce179",
   "metadata": {},
   "outputs": [
    {
     "name": "stderr",
     "output_type": "stream",
     "text": [
      "C:\\Users\\Bharath Reddy\\AppData\\Local\\Programs\\Python\\Python310\\lib\\site-packages\\keras\\src\\engine\\training.py:3103: UserWarning: You are saving your model as an HDF5 file via `model.save()`. This file format is considered legacy. We recommend using instead the native Keras format, e.g. `model.save('my_model.keras')`.\n",
      "  saving_api.save_model(\n"
     ]
    }
   ],
   "source": [
    "x.save(\"model.h5\")"
   ]
  },
  {
   "cell_type": "code",
   "execution_count": 26,
   "id": "7f887eaf-6a12-4f94-a7c2-0aa28132e92d",
   "metadata": {},
   "outputs": [
    {
     "name": "stdout",
     "output_type": "stream",
     "text": [
      "10/10 [==============================] - 36s 4s/step\n"
     ]
    }
   ],
   "source": [
    "y_prob = x.predict(test, steps=len(test))\n",
    "y_true = test.classes  # True labels\n"
   ]
  },
  {
   "cell_type": "code",
   "execution_count": 27,
   "id": "c2c91476-7bce-457e-9e88-506b7cce7612",
   "metadata": {},
   "outputs": [],
   "source": [
    "from sklearn.preprocessing import label_binarize\n",
    "\n",
    "y_true_onehot = label_binarize(y_true, classes=[0, 1, 2])  \n"
   ]
  },
  {
   "cell_type": "code",
   "execution_count": 28,
   "id": "39dad847-300d-41b0-bdff-076fc7e28502",
   "metadata": {},
   "outputs": [],
   "source": [
    "import matplotlib.pyplot as plt"
   ]
  },
  {
   "cell_type": "code",
   "execution_count": 29,
   "id": "4a4f3d89-eb0a-44d3-9559-b7708c14ef44",
   "metadata": {},
   "outputs": [
    {
     "name": "stderr",
     "output_type": "stream",
     "text": [
      "C:\\Users\\Bharath Reddy\\AppData\\Local\\Programs\\Python\\Python310\\lib\\site-packages\\sklearn\\metrics\\_plot\\roc_curve.py:171: UserWarning: No artists with labels found to put in legend.  Note that artists whose label start with an underscore are ignored when legend() is called with no argument.\n",
      "  self.ax_.legend(loc=\"lower right\")\n",
      "C:\\Users\\Bharath Reddy\\AppData\\Local\\Programs\\Python\\Python310\\lib\\site-packages\\sklearn\\metrics\\_plot\\roc_curve.py:171: UserWarning: No artists with labels found to put in legend.  Note that artists whose label start with an underscore are ignored when legend() is called with no argument.\n",
      "  self.ax_.legend(loc=\"lower right\")\n",
      "C:\\Users\\Bharath Reddy\\AppData\\Local\\Programs\\Python\\Python310\\lib\\site-packages\\sklearn\\metrics\\_plot\\roc_curve.py:171: UserWarning: No artists with labels found to put in legend.  Note that artists whose label start with an underscore are ignored when legend() is called with no argument.\n",
      "  self.ax_.legend(loc=\"lower right\")\n"
     ]
    },
    {
     "data": {
      "image/png": "[encoded data removed]",
      "text/plain": [
       "<Figure size 640x480 with 1 Axes>"
      ]
     },
     "metadata": {},
     "output_type": "display_data"
    },
    {
     "data": {
      "image/png": "[encoded data removed]",
      "text/plain": [
       "<Figure size 640x480 with 1 Axes>"
      ]
     },
     "metadata": {},
     "output_type": "display_data"
    },
    {
     "data": {
      "image/png": "[encoded data removed]",
      "text/plain": [
       "<Figure size 640x480 with 1 Axes>"
      ]
     },
     "metadata": {},
     "output_type": "display_data"
    }
   ],
   "source": [
    "from sklearn.metrics import roc_curve, RocCurveDisplay\n",
    "\n",
    "for i in range(3):  # Assuming 3 classes\n",
    "    fpr, tpr, _ = roc_curve(y_true_onehot[:, i], y_prob[:, i])\n",
    "    \n",
    "    RocCurveDisplay(fpr=fpr, tpr=tpr).plot()\n",
    "    \n",
    "plt.show()\n"
   ]
  },
  {
   "cell_type": "code",
   "execution_count": 30,
   "id": "9697aa0f-1395-4006-b6f4-58a04528827d",
   "metadata": {},
   "outputs": [
    {
     "name": "stdout",
     "output_type": "stream",
     "text": [
      "AUC: 0.5213419795036316\n"
     ]
    }
   ],
   "source": [
    "from tensorflow.keras.metrics import AUC\n",
    "\n",
    "auc = AUC(multi_label=True, num_labels=3)\n",
    "\n",
    "auc.update_state(y_true_onehot, y_prob)\n",
    "\n",
    "auc_result = auc.result().numpy()\n",
    "print(f\"AUC: {auc_result}\")\n"
   ]
  },
  {
   "cell_type": "code",
   "execution_count": null,
   "id": "2016b3e9-9cc4-42a0-a646-fa1c66f355c2",
   "metadata": {},
   "outputs": [],
   "source": []
  }
 ],
 "metadata": {
  "kernelspec": {
   "display_name": "Python 3 (ipykernel)",
   "language": "python",
   "name": "python3"
  },
  "language_info": {
   "codemirror_mode": {
    "name": "ipython",
    "version": 3
   },
   "file_extension": ".py",
   "mimetype": "text/x-python",
   "name": "python",
   "nbconvert_exporter": "python",
   "pygments_lexer": "ipython3",
   "version": "3.12.4"
  },
  "widgets": {
   "application/vnd.jupyter.widget-state+json": {
    "state": {},
    "version_major": 2,
    "version_minor": 0
   }
  }
 },
 "nbformat": 4,
 "nbformat_minor": 5
}
